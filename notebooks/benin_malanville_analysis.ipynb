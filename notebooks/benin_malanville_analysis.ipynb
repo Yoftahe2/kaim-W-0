{
 "cells": [
  {
   "cell_type": "code",
   "execution_count": null,
   "metadata": {
    "vscode": {
     "languageId": "plaintext"
    }
   },
   "outputs": [],
   "source": [
    "Conducting EDA on Benini_Malanville data"
   ]
  },
  {
   "cell_type": "code",
   "execution_count": null,
   "metadata": {
    "vscode": {
     "languageId": "plaintext"
    }
   },
   "outputs": [],
   "source": [
    "# Import the pandas library for data analysis\n",
    "import pandas as pd\n",
    "import numpy as np\n",
    "import seaborn as sns\n",
    "import matplotlib.pyplot as plt\n",
    "from scipy import stats\n",
    "import os,sys\n",
    "from pandas.plotting import scatter_matrix \n",
    "\n",
    "rpath = os.path.abspath('..')\n",
    "if rpath not in sys.path:\n",
    "    sys.path.insert(0, rpath)\n",
    "\n",
    "from scripts.utils import (\n",
    "    detect_outliers_iqr,\n",
    "    plot_time_series, \n",
    "    plot_correlation_analysis, \n",
    "    plot_wind_analysis, \n",
    "    plot_temperature_analysis, \n",
    "    plot_histograms, \n",
    "    calculate_z_scores, \n",
    "    plot_bubble_chart, \n",
    "    clean_dataset\n",
    ")\n"
   ]
  },
  {
   "cell_type": "code",
   "execution_count": null,
   "metadata": {
    "vscode": {
     "languageId": "plaintext"
    }
   },
   "outputs": [],
   "source": [
    "# Import the dataframe from csv\n",
    "# benin-malanville data\n",
    "\n",
    "df_benin = pd.read_csv('../data/benin-malanville.csv')"
   ]
  },
  {
   "cell_type": "markdown",
   "metadata": {},
   "source": [
    "Understanding DataFrame / Data"
   ]
  },
  {
   "cell_type": "code",
   "execution_count": null,
   "metadata": {
    "vscode": {
     "languageId": "plaintext"
    }
   },
   "outputs": [],
   "source": [
    "# The first 5 rows of the dataset\n",
    "\n",
    "df_benin.head(5)"
   ]
  },
  {
   "cell_type": "code",
   "execution_count": null,
   "metadata": {
    "vscode": {
     "languageId": "plaintext"
    }
   },
   "outputs": [],
   "source": [
    "# The last 5 rows of the dataset\n",
    "\n",
    "df_benin.tail(5)"
   ]
  },
  {
   "cell_type": "code",
   "execution_count": null,
   "metadata": {
    "vscode": {
     "languageId": "plaintext"
    }
   },
   "outputs": [],
   "source": [
    "# Information about the dataframe\n",
    "    # consists all columns\n",
    "    # number of rows\n",
    "    # number of columns\n",
    "    # data types of columns\n",
    "    # memory usage\n",
    "\n",
    "df_benin.info()"
   ]
  },
  {
   "cell_type": "code",
   "execution_count": null,
   "metadata": {
    "vscode": {
     "languageId": "plaintext"
    }
   },
   "outputs": [],
   "source": [
    "# Shape of the dataframe\n",
    "\n",
    "df_benin.shape"
   ]
  },
  {
   "cell_type": "code",
   "execution_count": null,
   "metadata": {
    "vscode": {
     "languageId": "plaintext"
    }
   },
   "outputs": [],
   "source": [
    "# Check null values\n",
    "\n",
    "null_values = df_benin.isnull().sum()\n",
    "null_values"
   ]
  },
  {
   "cell_type": "code",
   "execution_count": null,
   "metadata": {
    "vscode": {
     "languageId": "plaintext"
    }
   },
   "outputs": [],
   "source": [
    "# Data summary\n",
    "\n",
    "df_benin.describe()"
   ]
  },
  {
   "cell_type": "markdown",
   "metadata": {},
   "source": [
    "# Summary statistics"
   ]
  },
  {
   "cell_type": "code",
   "execution_count": null,
   "metadata": {
    "vscode": {
     "languageId": "plaintext"
    }
   },
   "outputs": [],
   "source": [
    "# Calculate the mean, median, standard deviation, and \n",
    "# Other statistical measures for each numeric column to understand data distribution."
   ]
  },
  {
   "cell_type": "code",
   "execution_count": null,
   "metadata": {
    "vscode": {
     "languageId": "plaintext"
    }
   },
   "outputs": [],
   "source": [
    "# Mean\n",
    "\n",
    "numeric_df = df_benin.select_dtypes(include=['number'])\n",
    "numeric_df.mean()"
   ]
  },
  {
   "cell_type": "code",
   "execution_count": null,
   "metadata": {
    "vscode": {
     "languageId": "plaintext"
    }
   },
   "outputs": [],
   "source": [
    "# Median\n",
    "\n",
    "numeric_df = df_benin.select_dtypes(include=['number'])\n",
    "numeric_df.median()"
   ]
  },
  {
   "cell_type": "code",
   "execution_count": null,
   "metadata": {
    "vscode": {
     "languageId": "plaintext"
    }
   },
   "outputs": [],
   "source": [
    "# Standard deviation\n",
    "\n",
    "numeric_df = df_benin.select_dtypes(include=['number'])\n",
    "numeric_df.std()"
   ]
  },
  {
   "cell_type": "code",
   "execution_count": null,
   "metadata": {
    "vscode": {
     "languageId": "plaintext"
    }
   },
   "outputs": [],
   "source": [
    "# Range \n",
    "\n",
    "numeric_df = df_benin.select_dtypes(include=['number'])\n",
    "range_value = numeric_df.max() - numeric_df.min()\n",
    "range_value"
   ]
  },
  {
   "cell_type": "code",
   "execution_count": null,
   "metadata": {
    "vscode": {
     "languageId": "plaintext"
    }
   },
   "outputs": [],
   "source": [
    "# Variance\n",
    "\n",
    "numeric_df = df_benin.select_dtypes(include=['number'])\n",
    "variance_values = numeric_df.var()\n",
    "variance_values"
   ]
  },
  {
   "cell_type": "code",
   "execution_count": null,
   "metadata": {
    "vscode": {
     "languageId": "plaintext"
    }
   },
   "outputs": [],
   "source": [
    "# Skwiness\n",
    "\n",
    "numeric_df = df_benin.select_dtypes(include=['number'])\n",
    "numeric_df.skew()"
   ]
  },
  {
   "cell_type": "code",
   "execution_count": null,
   "metadata": {
    "vscode": {
     "languageId": "plaintext"
    }
   },
   "outputs": [],
   "source": [
    "# Quartiles\n",
    "\n",
    "numeric_df = df_benin.select_dtypes(include=['number'])\n",
    "quantiles = numeric_df.quantile([0.25, 0.50, 0.75])\n",
    "quantiles"
   ]
  },
  {
   "cell_type": "markdown",
   "metadata": {},
   "source": [
    "# Data Quality Test/Check"
   ]
  },
  {
   "cell_type": "code",
   "execution_count": null,
   "metadata": {
    "vscode": {
     "languageId": "plaintext"
    }
   },
   "outputs": [],
   "source": [
    "# Look for missing values\n",
    "\n",
    "df_benin.isnull().sum()"
   ]
  },
  {
   "cell_type": "code",
   "execution_count": null,
   "metadata": {
    "vscode": {
     "languageId": "plaintext"
    }
   },
   "outputs": [],
   "source": [
    "# incorrect entries\n",
    "\n",
    "incorrect_entries_GHI = (df_benin['GHI'] < 0).sum()\n",
    "incorrect_entries_DNI = (df_benin['DNI'] < 0).sum()\n",
    "incorrect_entries_DHI = (df_benin['DHI'] < 0).sum()\n",
    "\n",
    "# Print the results\n",
    "print(\"Incorrect entries in GHI:\", incorrect_entries_GHI)\n",
    "print(\"Incorrect entries in DNI:\", incorrect_entries_DNI)\n",
    "print(\"Incorrect entries in DHI:\", incorrect_entries_DHI)"
   ]
  },
  {
   "cell_type": "code",
   "execution_count": null,
   "metadata": {
    "vscode": {
     "languageId": "plaintext"
    }
   },
   "outputs": [],
   "source": [
    "# outliers\n",
    "\n",
    "# Calculate the number of outliers for each column\n",
    "outliers_ModA = detect_outliers_iqr(df_benin['ModA'])\n",
    "outliers_ModB = detect_outliers_iqr(df_benin['ModB'])\n",
    "outliers_WS = detect_outliers_iqr(df_benin['WS'])\n",
    "outliers_WSgust = detect_outliers_iqr(df_benin['WSgust'])\n",
    "\n",
    "# Print the results\n",
    "print(\"Outliers in ModA:\", outliers_ModA)\n",
    "print(\"Outliers in ModB:\", outliers_ModB)\n",
    "print(\"Outliers in WS:\", outliers_WS)\n",
    "print(\"Outliers in WSgust:\", outliers_WSgust)"
   ]
  },
  {
   "cell_type": "markdown",
   "metadata": {},
   "source": [
    "# Time Series Analysis"
   ]
  },
  {
   "cell_type": "code",
   "execution_count": null,
   "metadata": {
    "vscode": {
     "languageId": "plaintext"
    }
   },
   "outputs": [],
   "source": [
    "plot_time_series(df_benin)"
   ]
  },
  {
   "cell_type": "markdown",
   "metadata": {},
   "source": [
    "# Correlation Analysis"
   ]
  },
  {
   "cell_type": "code",
   "execution_count": null,
   "metadata": {
    "vscode": {
     "languageId": "plaintext"
    }
   },
   "outputs": [],
   "source": [
    "plot_correlation_analysis(df_benin)"
   ]
  },
  {
   "cell_type": "markdown",
   "metadata": {},
   "source": [
    "# Wind Analysis"
   ]
  },
  {
   "cell_type": "code",
   "execution_count": null,
   "metadata": {
    "vscode": {
     "languageId": "plaintext"
    }
   },
   "outputs": [],
   "source": [
    "plot_wind_analysis(df_benin)"
   ]
  },
  {
   "cell_type": "markdown",
   "metadata": {},
   "source": [
    "# Temperature Analysis "
   ]
  },
  {
   "cell_type": "code",
   "execution_count": null,
   "metadata": {
    "vscode": {
     "languageId": "plaintext"
    }
   },
   "outputs": [],
   "source": [
    "plot_temperature_analysis(df_benin)"
   ]
  },
  {
   "cell_type": "markdown",
   "metadata": {},
   "source": [
    "#### Histograms"
   ]
  },
  {
   "cell_type": "code",
   "execution_count": null,
   "metadata": {
    "vscode": {
     "languageId": "plaintext"
    }
   },
   "outputs": [],
   "source": [
    "plot_histograms(df_benin)"
   ]
  },
  {
   "cell_type": "markdown",
   "metadata": {},
   "source": [
    "#### Z-Scores Analysis"
   ]
  },
  {
   "cell_type": "code",
   "execution_count": null,
   "metadata": {
    "vscode": {
     "languageId": "plaintext"
    }
   },
   "outputs": [],
   "source": [
    "z_scores_df, outliers = calculate_z_scores(df_benin)"
   ]
  },
  {
   "cell_type": "markdown",
   "metadata": {},
   "source": [
    "#### Bubble Charts"
   ]
  },
  {
   "cell_type": "code",
   "execution_count": null,
   "metadata": {
    "vscode": {
     "languageId": "plaintext"
    }
   },
   "outputs": [],
   "source": [
    "plot_bubble_chart(df_benin, 'GHI', 'Tamb', 'RH', 'GHI vs Tamb with Bubble Size Representing RH')\n",
    "\n",
    "# Plotting GHI vs Tamb with bubble size representing BP\n",
    "print('Bubble Chart for Benin:')\n",
    "plot_bubble_chart(df_benin, 'GHI', 'Tamb', 'BP', 'GHI vs Tamb with Bubble Size Representing BP')"
   ]
  },
  {
   "cell_type": "markdown",
   "metadata": {},
   "source": [
    "#### Data Cleaning"
   ]
  },
  {
   "cell_type": "code",
   "execution_count": null,
   "metadata": {
    "vscode": {
     "languageId": "plaintext"
    }
   },
   "outputs": [],
   "source": [
    "cleaned_benin_data = clean_dataset(df_benin)\n",
    "\n",
    "cleaned_benin_data"
   ]
  },
  {
   "cell_type": "markdown",
   "metadata": {},
   "source": []
  }
 ],
 "metadata": {
  "language_info": {
   "name": "python"
  }
 },
 "nbformat": 4,
 "nbformat_minor": 2
}
